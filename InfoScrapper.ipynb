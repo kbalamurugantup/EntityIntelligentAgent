{
  "nbformat": 4,
  "nbformat_minor": 0,
  "metadata": {
    "colab": {
      "provenance": []
    },
    "kernelspec": {
      "name": "python3",
      "display_name": "Python 3"
    },
    "language_info": {
      "name": "python"
    }
  },
  "cells": [
    {
      "cell_type": "markdown",
      "source": [
        "# 🔎 Investigation Assistant: Company & Person Scraper\n",
        "\n",
        "This Python-based investigation assistant automates the collection and analysis of publicly available information about companies or individuals from online sources, such as the UK Companies House.\n",
        "\n",
        "**Key Features:**\n",
        "- **Automated Web Scraping:** Collects structured and unstructured data from web pages.\n",
        "- **AI-powered Analysis:** Uses Groq (LLM) to extract relevant fields like company status, registered office, contacts, affiliations, SIC codes, and incorporation dates.\n",
        "- **Prompt-engineered Extraction:** Optimized prompts ensure accurate, structured JSON outputs with minimal missing data.\n",
        "- **Excel Reporting:** Generates well-formatted Excel files for records, review, and further analysis.\n",
        "- **Interactive Exploration:** Investigate multiple companies or individuals in a single session.\n",
        "\n",
        "*Designed for investigative research, compliance checks, and corporate intelligence, combining traditional web scraping with AI-assisted data extraction.*\n"
      ],
      "metadata": {
        "id": "iF7zcR5zEEtZ"
      }
    },
    {
      "cell_type": "markdown",
      "source": [
        "# 🔐 Securely enter Groq API key"
      ],
      "metadata": {
        "id": "u_72dR1AEiPS"
      }
    },
    {
      "cell_type": "code",
      "execution_count": 45,
      "metadata": {
        "colab": {
          "base_uri": "https://localhost:8080/"
        },
        "id": "u70E3o0bo-WL",
        "outputId": "7a1fea5d-0353-46eb-c598-14a3ca8bf7c8"
      },
      "outputs": [
        {
          "output_type": "stream",
          "name": "stdout",
          "text": [
            "Enter your Groq API key: ··········\n",
            "Groq API key set successfully (hidden).\n"
          ]
        }
      ],
      "source": [
        "import os\n",
        "from getpass import getpass\n",
        "GROQ_API_KEY = getpass(\"Enter your Groq API key: \")\n",
        "os.environ[\"GROQ_API_KEY\"] = GROQ_API_KEY\n",
        "print(\"Groq API key set successfully (hidden).\")\n"
      ]
    },
    {
      "cell_type": "markdown",
      "source": [
        "# Install required Libraries"
      ],
      "metadata": {
        "id": "T3LTO6DJFPzv"
      }
    },
    {
      "cell_type": "code",
      "source": [
        "!pip install langchain groq requests beautifulsoup4 lxml pandas tqdm -q"
      ],
      "metadata": {
        "id": "fommehbAvxZA"
      },
      "execution_count": 35,
      "outputs": []
    },
    {
      "cell_type": "code",
      "source": [
        "import os\n",
        "import re\n",
        "import json\n",
        "import requests\n",
        "import datetime\n",
        "from bs4 import BeautifulSoup\n",
        "from getpass import getpass\n",
        "import pandas as pd\n",
        "from IPython.display import display, Markdown\n",
        "from groq import Groq\n",
        "\n",
        "\n",
        "#GROQ_API_KEY = getpass(\"Enter your Groq API key: \")\n",
        "os.environ[\"GROQ_API_KEY\"] = GROQ_API_KEY\n",
        "client = Groq(api_key=os.environ[\"GROQ_API_KEY\"])\n",
        "\n",
        "# -----------------------------\n",
        "# Search Companies House for company profile links\n",
        "# -----------------------------\n",
        "def search_companies_house(company_name):\n",
        "    search_url = f\"https://find-and-update.company-information.service.gov.uk/search?q={company_name.replace(' ', '+')}\"\n",
        "    r = requests.get(search_url, headers={\"User-Agent\": \"Mozilla/5.0\"}, timeout=15)\n",
        "    r.raise_for_status()\n",
        "    soup = BeautifulSoup(r.text, \"lxml\")\n",
        "\n",
        "    links = []\n",
        "    for a in soup.find_all(\"a\", href=True):\n",
        "        if re.match(r\"^/company/\\d+\", a[\"href\"]):\n",
        "            full_url = \"https://find-and-update.company-information.service.gov.uk\" + a[\"href\"]\n",
        "            if full_url not in links:\n",
        "                links.append(full_url)\n",
        "    return links\n",
        "\n",
        "# -----------------------------\n",
        "# Scrape text snippets from a URL\n",
        "# -----------------------------\n",
        "def scrape_url(url):\n",
        "    try:\n",
        "        r = requests.get(url, headers={\"User-Agent\": \"Mozilla/5.0\"}, timeout=15)\n",
        "        r.raise_for_status()\n",
        "    except Exception as e:\n",
        "        return [f\"⚠️ Error fetching {url}: {str(e)}\"]\n",
        "\n",
        "    soup = BeautifulSoup(r.text, \"html.parser\")\n",
        "    texts = []\n",
        "\n",
        "    # Add headers, paragraphs, list items\n",
        "    for tag in soup.find_all([\"h1\",\"h2\",\"h3\",\"p\",\"li\",\"dt\",\"dd\",\"span\"]):\n",
        "        text = tag.get_text(strip=True)\n",
        "        if text and len(text.split()) > 1:\n",
        "            texts.append(text)\n",
        "\n",
        "    return texts[:100]  # increase snippets to capture more details\n",
        "\n",
        "\n",
        "# -----------------------------\n",
        "# Filter snippets by exact company name\n",
        "# -----------------------------\n",
        "def filter_snippets_by_target(snippets, target_name):\n",
        "    pattern = re.compile(re.escape(target_name), re.IGNORECASE)\n",
        "    filtered = [s for s in snippets if pattern.search(s)]\n",
        "    return filtered if filtered else snippets\n",
        "\n",
        "# -----------------------------\n",
        "# Analyze with Groq (Updated)\n",
        "# -----------------------------\n",
        "def analyze_snippets_with_groq(target, url, snippets):\n",
        "    system_prompt = f\"\"\"\n",
        "You are an expert investigator AI. You are given snippets from a UK Companies House company profile page.\n",
        "Your task is to extract exact information for the target company '{target}' and return a JSON object ONLY with these fields:\n",
        "\n",
        "- name_detected: Official company name\n",
        "- registered_office_address: Full registered address\n",
        "- company_status: e.g., Active, In Administration, Dissolved\n",
        "- company_type: e.g., Private limited company\n",
        "- incorporation_date: Date of incorporation\n",
        "- accounts_next: Next accounts date\n",
        "- accounts_last: Last accounts date\n",
        "- confirmation_statement_next: Next confirmation statement date\n",
        "- confirmation_statement_last: Last confirmation statement date\n",
        "- nature_of_business_sic: SIC code(s) and description\n",
        "\n",
        "**Important Instructions:**\n",
        "- Only extract data that is explicitly present in the snippets.\n",
        "- If data is missing, return an empty string.\n",
        "- Return valid JSON only, no extra text.\n",
        "- Use correct date formats if available (YYYY-MM-DD or 'DD Month YYYY').\n",
        "\"\"\"\n",
        "\n",
        "    joined_snippets = \"\\n\".join(snippets)\n",
        "    user_msg = f\"Target: {target}\\nURL: {url}\\nSnippets:\\n{joined_snippets}\"\n",
        "\n",
        "    resp = client.chat.completions.create(\n",
        "        model=\"llama-3.1-8b-instant\",\n",
        "        messages=[\n",
        "            {\"role\": \"system\", \"content\": system_prompt.strip()},\n",
        "            {\"role\": \"user\", \"content\": user_msg},\n",
        "        ],\n",
        "        temperature=0.2,\n",
        "        max_tokens=600,\n",
        "    )\n",
        "\n",
        "    return resp.choices[0].message.content.strip()\n",
        "\n",
        "# -----------------------------\n",
        "# Step 7: Full investigation pipeline\n",
        "# -----------------------------\n",
        "def investigate_company(target):\n",
        "    print(f\"\\n🔍 Searching Companies House for '{target}'...\")\n",
        "    urls = search_companies_house(target)\n",
        "    if not urls:\n",
        "        print(\"❌ No company profiles found.\")\n",
        "        return None\n",
        "\n",
        "    results = {\n",
        "        \"target\": target,\n",
        "        \"queried_at\": datetime.datetime.now(datetime.timezone.utc).isoformat(),\n",
        "        \"items\": []\n",
        "    }\n",
        "\n",
        "    for url in urls:\n",
        "        print(f\"\\n📂 Processing: {url}\")\n",
        "        snippets = scrape_url(url)\n",
        "        snippets = filter_snippets_by_target(snippets, target)\n",
        "        analysis = analyze_snippets_with_groq(target, url, snippets)\n",
        "        results[\"items\"].append({\n",
        "            \"url\": url,\n",
        "            \"snippets\": snippets,\n",
        "            \"analysis\": analysis\n",
        "        })\n",
        "    return results\n",
        "\n",
        "# -----------------------------\n",
        "#Beautified Pretty-print results (Updated)\n",
        "# -----------------------------\n",
        "def pretty_print_results(res):\n",
        "    display(Markdown(f\"## 🔹 Investigation Results for: **{res['target']}**\"))\n",
        "    display(Markdown(f\"Queried at: {res['queried_at']}\\n\"))\n",
        "\n",
        "    for i, item in enumerate(res[\"items\"], start=1):\n",
        "        try:\n",
        "            analysis_json = json.loads(re.search(r\"\\{.*\\}\", item['analysis'], re.DOTALL).group())\n",
        "        except:\n",
        "            analysis_json = {\n",
        "                \"name_detected\":\"\",\n",
        "                \"registered_office_address\":\"\", \"company_status\":\"\", \"company_type\":\"\",\n",
        "                \"incorporation_date\":\"\", \"accounts_next\":\"\", \"accounts_last\":\"\",\n",
        "                \"confirmation_statement_next\":\"\", \"confirmation_statement_last\":\"\",\n",
        "                \"nature_of_business_sic\":\"\"\n",
        "            }\n",
        "\n",
        "        def highlight_missing(val):\n",
        "            return f\"**❌ Missing**\" if not val else val\n",
        "\n",
        "        md_text = f\"\"\"\n",
        "<details>\n",
        "<summary>📂 Result #{i} - {highlight_missing(analysis_json.get('name_detected',''))} (Click to expand)</summary>\n",
        "\n",
        "**URL:** {item['url']}\n",
        "\n",
        "- ✅ **Name Detected:** {highlight_missing(analysis_json.get('name_detected',''))}\n",
        "- 🏢 **Registered Office Address:** {highlight_missing(analysis_json.get('registered_office_address',''))}\n",
        "- 📊 **Company Status:** {highlight_missing(analysis_json.get('company_status',''))}\n",
        "- 🏷️ **Company Type:** {highlight_missing(analysis_json.get('company_type',''))}\n",
        "- 📅 **Incorporation Date:** {highlight_missing(analysis_json.get('incorporation_date',''))}\n",
        "- 📈 **Accounts (Next):** {highlight_missing(analysis_json.get('accounts_next',''))}\n",
        "- 📉 **Accounts (Last):** {highlight_missing(analysis_json.get('accounts_last',''))}\n",
        "- 📅 **Confirmation Statement (Next):** {highlight_missing(analysis_json.get('confirmation_statement_next',''))}\n",
        "- 📅 **Confirmation Statement (Last):** {highlight_missing(analysis_json.get('confirmation_statement_last',''))}\n",
        "- ⚙️ **Nature of Business (SIC):** {highlight_missing(analysis_json.get('nature_of_business_sic',''))}\n",
        "\n",
        "</details>\n",
        "\"\"\"\n",
        "        display(Markdown(md_text))\n",
        "\n",
        "# -----------------------------\n",
        "# Interactive loop + Excel export (Updated)\n",
        "# -----------------------------\n",
        "while True:\n",
        "    company_name = input(\"\\nEnter company or person name (or type 'exit' to quit): \").strip()\n",
        "    if company_name.lower() == \"exit\":\n",
        "        print(\"\\n👋 Exiting investigation assistant. Goodbye!\")\n",
        "        break\n",
        "\n",
        "    res = investigate_company(company_name)\n",
        "    if res:\n",
        "        pretty_print_results(res)\n",
        "\n",
        "        # Save results to Excel with all new fields\n",
        "        rows = []\n",
        "        for item in res[\"items\"]:\n",
        "            try:\n",
        "                analysis_json = json.loads(re.search(r\"\\{.*\\}\", item['analysis'], re.DOTALL).group())\n",
        "            except:\n",
        "                analysis_json = {}\n",
        "            rows.append({\n",
        "                \"Name Detected\": analysis_json.get(\"name_detected\",\"\"),\n",
        "                \"Registered Office Address\": analysis_json.get(\"registered_office_address\",\"\"),\n",
        "                \"Company Status\": analysis_json.get(\"company_status\",\"\"),\n",
        "                \"Company Type\": analysis_json.get(\"company_type\",\"\"),\n",
        "                \"Incorporation Date\": analysis_json.get(\"incorporation_date\",\"\"),\n",
        "                \"Accounts Next\": analysis_json.get(\"accounts_next\",\"\"),\n",
        "                \"Accounts Last\": analysis_json.get(\"accounts_last\",\"\"),\n",
        "                \"Confirmation Statement Next\": analysis_json.get(\"confirmation_statement_next\",\"\"),\n",
        "                \"Confirmation Statement Last\": analysis_json.get(\"confirmation_statement_last\",\"\"),\n",
        "                \"Nature of Business SIC\": analysis_json.get(\"nature_of_business_sic\",\"\"),\n",
        "                \"URL\": item[\"url\"]\n",
        "            })\n",
        "        df = pd.DataFrame(rows)\n",
        "        filename = f\"investigation_{company_name.replace(' ','_')}.xlsx\"\n",
        "        df.to_excel(filename, index=False)\n",
        "        print(f\"\\n📁 Saved beautifully formatted Excel: {filename}\")\n",
        "\n",
        "    # Ask if user wants to continue\n",
        "    continue_choice = input(\"\\nDo you want to investigate another company/person? (yes/no): \").strip().lower()\n",
        "    if continue_choice not in [\"yes\", \"y\"]:\n",
        "        print(\"\\n👋 Exiting investigation assistant. Goodbye!\")\n",
        "        break\n"
      ],
      "metadata": {
        "colab": {
          "base_uri": "https://localhost:8080/",
          "height": 1000
        },
        "id": "6Ji-mjWq-V8T",
        "outputId": "7da2d130-b9ec-4741-b4e8-7639297227f7"
      },
      "execution_count": 44,
      "outputs": [
        {
          "output_type": "stream",
          "name": "stdout",
          "text": [
            "\n",
            "Enter company or person name (or type 'exit' to quit): 79th Group\n",
            "\n",
            "🔍 Searching Companies House for '79th Group'...\n",
            "\n",
            "📂 Processing: https://find-and-update.company-information.service.gov.uk/company/11725522\n",
            "\n",
            "📂 Processing: https://find-and-update.company-information.service.gov.uk/company/10196600\n",
            "\n",
            "📂 Processing: https://find-and-update.company-information.service.gov.uk/company/15864010\n",
            "\n",
            "📂 Processing: https://find-and-update.company-information.service.gov.uk/company/13649781\n",
            "\n",
            "📂 Processing: https://find-and-update.company-information.service.gov.uk/company/13770396\n",
            "\n",
            "📂 Processing: https://find-and-update.company-information.service.gov.uk/company/14628949\n",
            "\n",
            "📂 Processing: https://find-and-update.company-information.service.gov.uk/company/14495240\n",
            "\n",
            "📂 Processing: https://find-and-update.company-information.service.gov.uk/company/09146736\n",
            "\n",
            "📂 Processing: https://find-and-update.company-information.service.gov.uk/company/12795490\n",
            "\n",
            "📂 Processing: https://find-and-update.company-information.service.gov.uk/company/12795831\n",
            "\n",
            "📂 Processing: https://find-and-update.company-information.service.gov.uk/company/12795733\n",
            "\n",
            "📂 Processing: https://find-and-update.company-information.service.gov.uk/company/15298866\n",
            "\n",
            "📂 Processing: https://find-and-update.company-information.service.gov.uk/company/15922786\n",
            "\n",
            "📂 Processing: https://find-and-update.company-information.service.gov.uk/company/15922460\n",
            "\n",
            "📂 Processing: https://find-and-update.company-information.service.gov.uk/company/15922417\n",
            "\n",
            "📂 Processing: https://find-and-update.company-information.service.gov.uk/company/15920440\n",
            "\n",
            "📂 Processing: https://find-and-update.company-information.service.gov.uk/company/10787951\n",
            "\n",
            "📂 Processing: https://find-and-update.company-information.service.gov.uk/company/12654970\n",
            "\n",
            "📂 Processing: https://find-and-update.company-information.service.gov.uk/company/16252882\n",
            "\n",
            "📂 Processing: https://find-and-update.company-information.service.gov.uk/company/14254854\n"
          ]
        },
        {
          "output_type": "display_data",
          "data": {
            "text/plain": [
              "<IPython.core.display.Markdown object>"
            ],
            "text/markdown": "## 🔹 Investigation Results for: **79th Group**"
          },
          "metadata": {}
        },
        {
          "output_type": "display_data",
          "data": {
            "text/plain": [
              "<IPython.core.display.Markdown object>"
            ],
            "text/markdown": "Queried at: 2025-09-18T08:58:53.049616+00:00\n"
          },
          "metadata": {}
        },
        {
          "output_type": "display_data",
          "data": {
            "text/plain": [
              "<IPython.core.display.Markdown object>"
            ],
            "text/markdown": "\n<details>\n<summary>📂 Result #1 - GRUDGE MATCH MANAGEMENT LTD (Click to expand)</summary>\n\n**URL:** https://find-and-update.company-information.service.gov.uk/company/11725522\n\n- ✅ **Name Detected:** GRUDGE MATCH MANAGEMENT LTD\n- 🏢 **Registered Office Address:** Flat 1 Elsworth Court, 3 Cottonham Close, London, England, N12 9HN\n- 📊 **Company Status:** Company status\n- 🏷️ **Company Type:** Private limited Company\n- 📅 **Incorporation Date:** 13 December 2018\n- 📈 **Accounts (Next):** 5 April 2025 due by 5 January 2026\n- 📉 **Accounts (Last):** 5 April 2024\n- 📅 **Confirmation Statement (Next):** 22 March 2026 due by 5 April 2026\n- 📅 **Confirmation Statement (Last):** 22 March 2025\n- ⚙️ **Nature of Business (SIC):** 70229 - Management consultancy activities other than financial management\n\n</details>\n"
          },
          "metadata": {}
        },
        {
          "output_type": "display_data",
          "data": {
            "text/plain": [
              "<IPython.core.display.Markdown object>"
            ],
            "text/markdown": "\n<details>\n<summary>📂 Result #2 - 79TH GROUP CLIENT LTD (Click to expand)</summary>\n\n**URL:** https://find-and-update.company-information.service.gov.uk/company/10196600\n\n- ✅ **Name Detected:** 79TH GROUP CLIENT LTD\n- 🏢 **Registered Office Address:** **❌ Missing**\n- 📊 **Company Status:** **❌ Missing**\n- 🏷️ **Company Type:** **❌ Missing**\n- 📅 **Incorporation Date:** **❌ Missing**\n- 📈 **Accounts (Next):** **❌ Missing**\n- 📉 **Accounts (Last):** **❌ Missing**\n- 📅 **Confirmation Statement (Next):** **❌ Missing**\n- 📅 **Confirmation Statement (Last):** **❌ Missing**\n- ⚙️ **Nature of Business (SIC):** **❌ Missing**\n\n</details>\n"
          },
          "metadata": {}
        },
        {
          "output_type": "display_data",
          "data": {
            "text/plain": [
              "<IPython.core.display.Markdown object>"
            ],
            "text/markdown": "\n<details>\n<summary>📂 Result #3 - HIGHLANDS HIDEAWAY LTD (Click to expand)</summary>\n\n**URL:** https://find-and-update.company-information.service.gov.uk/company/15864010\n\n- ✅ **Name Detected:** HIGHLANDS HIDEAWAY LTD\n- 🏢 **Registered Office Address:** CG & CO, 27 Byrom Street, Manchester, M3 4PF\n- 📊 **Company Status:** In Administration\n- 🏷️ **Company Type:** Private limited Company\n- 📅 **Incorporation Date:** 29 July 2024\n- 📈 **Accounts (Next):** 29 April 2026\n- 📉 **Accounts (Last):** 31 July 2025\n- 📅 **Confirmation Statement (Next):** 11 August 2025\n- 📅 **Confirmation Statement (Last):** **❌ Missing**\n- ⚙️ **Nature of Business (SIC):** 41100 - Development of building projects\n\n</details>\n"
          },
          "metadata": {}
        },
        {
          "output_type": "display_data",
          "data": {
            "text/plain": [
              "<IPython.core.display.Markdown object>"
            ],
            "text/markdown": "\n<details>\n<summary>📂 Result #4 - 79TH CLIENT LIMITED (Click to expand)</summary>\n\n**URL:** https://find-and-update.company-information.service.gov.uk/company/13649781\n\n- ✅ **Name Detected:** 79TH CLIENT LIMITED\n- 🏢 **Registered Office Address:** Southport Business Park, Wight Moss Way, Southport, England, PR8 4HQ\n- 📊 **Company Status:** Company status\n- 🏷️ **Company Type:** Private limited Company\n- 📅 **Incorporation Date:** 29 September 2021\n- 📈 **Accounts (Next):** 31 December 2024 due by 30 September 2025\n- 📉 **Accounts (Last):** 31 December 2023\n- 📅 **Confirmation Statement (Next):** 28 September 2025 due by 12 October 2025\n- 📅 **Confirmation Statement (Last):** 28 September 2024\n- ⚙️ **Nature of Business (SIC):** 96090 - Other service activities not elsewhere classified\n\n</details>\n"
          },
          "metadata": {}
        },
        {
          "output_type": "display_data",
          "data": {
            "text/plain": [
              "<IPython.core.display.Markdown object>"
            ],
            "text/markdown": "\n<details>\n<summary>📂 Result #5 - 79TH COMMERCIAL ONE LTD (Click to expand)</summary>\n\n**URL:** https://find-and-update.company-information.service.gov.uk/company/13770396\n\n- ✅ **Name Detected:** 79TH COMMERCIAL ONE LTD\n- 🏢 **Registered Office Address:** The Lexicon, 10-12 Mount Street, Manchester, M2 5NT\n- 📊 **Company Status:** In Administration\n- 🏷️ **Company Type:** Private limited Company\n- 📅 **Incorporation Date:** 29 November 2021\n- 📈 **Accounts (Next):** 31 December 2024 due by 30 September 2025\n- 📉 **Accounts (Last):** 31 December 2023\n- 📅 **Confirmation Statement (Next):** 28 November 2025 due by 12 December 2025\n- 📅 **Confirmation Statement (Last):** 28 November 2024\n- ⚙️ **Nature of Business (SIC):** 96090 - Other service activities not elsewhere classified\n\n</details>\n"
          },
          "metadata": {}
        },
        {
          "output_type": "display_data",
          "data": {
            "text/plain": [
              "<IPython.core.display.Markdown object>"
            ],
            "text/markdown": "\n<details>\n<summary>📂 Result #6 - 79TH COMMERCIAL THREE LTD (Click to expand)</summary>\n\n**URL:** https://find-and-update.company-information.service.gov.uk/company/14628949\n\n- ✅ **Name Detected:** 79TH COMMERCIAL THREE LTD\n- 🏢 **Registered Office Address:** C/O Kroll Advisory Ltd, The Shard, 32, London Bridge Street, London, SE1 9SG\n- 📊 **Company Status:** In Administration\n- 🏷️ **Company Type:** Private limited Company\n- 📅 **Incorporation Date:** 31 January 2023\n- 📈 **Accounts (Next):** 31 December 2024 due by 30 September 2025\n- 📉 **Accounts (Last):** 31 December 2023\n- 📅 **Confirmation Statement (Next):** 30 January 2026 due by 13 February 2026\n- 📅 **Confirmation Statement (Last):** 30 January 2025\n- ⚙️ **Nature of Business (SIC):** 96090 - Other service activities not elsewhere classified\n\n</details>\n"
          },
          "metadata": {}
        },
        {
          "output_type": "display_data",
          "data": {
            "text/plain": [
              "<IPython.core.display.Markdown object>"
            ],
            "text/markdown": "\n<details>\n<summary>📂 Result #7 - 79TH COMMERCIAL TWO LTD (Click to expand)</summary>\n\n**URL:** https://find-and-update.company-information.service.gov.uk/company/14495240\n\n- ✅ **Name Detected:** 79TH COMMERCIAL TWO LTD\n- 🏢 **Registered Office Address:** Southport Business Park, Wight Moss Way, Southport, United Kingdom, PR8 4HQ\n- 📊 **Company Status:** Company status\n- 🏷️ **Company Type:** Private limited Company\n- 📅 **Incorporation Date:** 21 November 2022\n- 📈 **Accounts (Next):** 31 December 2024 due by 30 September 2025\n- 📉 **Accounts (Last):** 31 December 2023\n- 📅 **Confirmation Statement (Next):** 20 November 2025 due by 4 December 2025\n- 📅 **Confirmation Statement (Last):** 20 November 2024\n- ⚙️ **Nature of Business (SIC):** 96090 - Other service activities not elsewhere classified\n\n</details>\n"
          },
          "metadata": {}
        },
        {
          "output_type": "display_data",
          "data": {
            "text/plain": [
              "<IPython.core.display.Markdown object>"
            ],
            "text/markdown": "\n<details>\n<summary>📂 Result #8 - 79TH ELEMENT LIMITED (Click to expand)</summary>\n\n**URL:** https://find-and-update.company-information.service.gov.uk/company/09146736\n\n- ✅ **Name Detected:** 79TH ELEMENT LIMITED\n- 🏢 **Registered Office Address:** Pelican House, 119c Eastbank Street, Southport, Merseyside, England, PR8 1DQ\n- 📊 **Company Status:** Active— Active proposal to strike off\n- 🏷️ **Company Type:** Private limited Company\n- 📅 **Incorporation Date:** 24 July 2014\n- 📈 **Accounts (Next):** 31 January 2024 due by 31 October 2024\n- 📉 **Accounts (Last):** 31 January 2023\n- 📅 **Confirmation Statement (Next):** 24 July 2025 due by 7 August 2025\n- 📅 **Confirmation Statement (Last):** 24 July 2024\n- ⚙️ **Nature of Business (SIC):** 07290 - Mining of other non-ferrous metal ores\n\n</details>\n"
          },
          "metadata": {}
        },
        {
          "output_type": "display_data",
          "data": {
            "text/plain": [
              "<IPython.core.display.Markdown object>"
            ],
            "text/markdown": "\n<details>\n<summary>📂 Result #9 - 79TH GRP ONE LTD (Click to expand)</summary>\n\n**URL:** https://find-and-update.company-information.service.gov.uk/company/12795490\n\n- ✅ **Name Detected:** 79TH GRP ONE LTD\n- 🏢 **Registered Office Address:** Southport Business Park, Wight Moss Way, Southport, England, PR8 4HQ\n- 📊 **Company Status:** Company status\n- 🏷️ **Company Type:** Private limited Company\n- 📅 **Incorporation Date:** 5 August 2020\n- 📈 **Accounts (Next):** 31 December 2024 due by 30 September 2025\n- 📉 **Accounts (Last):** 31 December 2023\n- 📅 **Confirmation Statement (Next):** 25 August 2025 due by 8 September 2025\n- 📅 **Confirmation Statement (Last):** 25 August 2024\n- ⚙️ **Nature of Business (SIC):** 96090 - Other service activities not elsewhere classified\n\n</details>\n"
          },
          "metadata": {}
        },
        {
          "output_type": "display_data",
          "data": {
            "text/plain": [
              "<IPython.core.display.Markdown object>"
            ],
            "text/markdown": "\n<details>\n<summary>📂 Result #10 - 79TH GRP THREE LTD (Click to expand)</summary>\n\n**URL:** https://find-and-update.company-information.service.gov.uk/company/12795831\n\n- ✅ **Name Detected:** 79TH GRP THREE LTD\n- 🏢 **Registered Office Address:** C/O Quantuma Advisory Limited The Lexicon, 10-12 Mount Street, Manchester, M2 5NT\n- 📊 **Company Status:** In Administration\n- 🏷️ **Company Type:** Private limited Company\n- 📅 **Incorporation Date:** 6 August 2020\n- 📈 **Accounts (Next):** 31 December 2024 due by 30 September 2025\n- 📉 **Accounts (Last):** 31 December 2023\n- 📅 **Confirmation Statement (Next):** 6 January 2026 due by 20 January 2026\n- 📅 **Confirmation Statement (Last):** 6 January 2025\n- ⚙️ **Nature of Business (SIC):** 96090 - Other service activities not elsewhere classified\n\n</details>\n"
          },
          "metadata": {}
        },
        {
          "output_type": "display_data",
          "data": {
            "text/plain": [
              "<IPython.core.display.Markdown object>"
            ],
            "text/markdown": "\n<details>\n<summary>📂 Result #11 - 79TH GRP TWO LTD (Click to expand)</summary>\n\n**URL:** https://find-and-update.company-information.service.gov.uk/company/12795733\n\n- ✅ **Name Detected:** 79TH GRP TWO LTD\n- 🏢 **Registered Office Address:** Southport Business Park, Wight Moss Way, Southport, England, PR8 4HQ\n- 📊 **Company Status:** Company status\n- 🏷️ **Company Type:** Private limited Company\n- 📅 **Incorporation Date:** 6 August 2020\n- 📈 **Accounts (Next):** 31 December 2024 due by 30 September 2025\n- 📉 **Accounts (Last):** 31 December 2023\n- 📅 **Confirmation Statement (Next):** 25 August 2025 due by 8 September 2025\n- 📅 **Confirmation Statement (Last):** 25 August 2024\n- ⚙️ **Nature of Business (SIC):** 96090 - Other service activities not elsewhere classified\n\n</details>\n"
          },
          "metadata": {}
        },
        {
          "output_type": "display_data",
          "data": {
            "text/plain": [
              "<IPython.core.display.Markdown object>"
            ],
            "text/markdown": "\n<details>\n<summary>📂 Result #12 - 79TH LEISURE ONE LTD (Click to expand)</summary>\n\n**URL:** https://find-and-update.company-information.service.gov.uk/company/15298866\n\n- ✅ **Name Detected:** 79TH LEISURE ONE LTD\n- 🏢 **Registered Office Address:** Brook House Southport Business Park, Wight Moss Way, Southport, United Kingdom, PR8 4HQ\n- 📊 **Company Status:** Dissolved\n- 🏷️ **Company Type:** Private limited Company\n- 📅 **Incorporation Date:** 21 November 2023\n- 📈 **Accounts (Next):** **❌ Missing**\n- 📉 **Accounts (Last):** **❌ Missing**\n- 📅 **Confirmation Statement (Next):** **❌ Missing**\n- 📅 **Confirmation Statement (Last):** 20 November 2024\n- ⚙️ **Nature of Business (SIC):** 68100 - Buying and selling of own real estate, 68100 - Buying and selling of own real estate, 68209 - Other letting and operating of own or leased real estate, 68209 - Other letting and operating of own or leased real estate, 68320 - Management of real estate on a fee or contract basis, 68320 - Management of real estate on a fee or contract basis\n\n</details>\n"
          },
          "metadata": {}
        },
        {
          "output_type": "display_data",
          "data": {
            "text/plain": [
              "<IPython.core.display.Markdown object>"
            ],
            "text/markdown": "\n<details>\n<summary>📂 Result #13 - 79TH LEISURE ONE DEVELOPMENT LIMITED (Click to expand)</summary>\n\n**URL:** https://find-and-update.company-information.service.gov.uk/company/15922786\n\n- ✅ **Name Detected:** 79TH LEISURE ONE DEVELOPMENT LIMITED\n- 🏢 **Registered Office Address:** Brook House Southport Business Park, Wight Moss Way, Southport, United Kingdom, PR8 4HQ\n- 📊 **Company Status:** Company status\n- 🏷️ **Company Type:** Private limited Company\n- 📅 **Incorporation Date:** 28 August 2024\n- 📈 **Accounts (Next):** 28 May 2026\n- 📉 **Accounts (Last):** 31 August 2025\n- 📅 **Confirmation Statement (Next):** 10 September 2025\n- 📅 **Confirmation Statement (Last):** 27 August 2025\n- ⚙️ **Nature of Business (SIC):** 68100 - Buying and selling of own real estate, 68209 - Other letting and operating of own or leased real estate, 68320 - Management of real estate on a fee or contract basis\n\n</details>\n"
          },
          "metadata": {}
        },
        {
          "output_type": "display_data",
          "data": {
            "text/plain": [
              "<IPython.core.display.Markdown object>"
            ],
            "text/markdown": "\n<details>\n<summary>📂 Result #14 - 79TH LEISURE ONE MANAGEMENT LIMITED (Click to expand)</summary>\n\n**URL:** https://find-and-update.company-information.service.gov.uk/company/15922460\n\n- ✅ **Name Detected:** 79TH LEISURE ONE MANAGEMENT LIMITED\n- 🏢 **Registered Office Address:** Brook House Southport Business Park, Wight Moss Way, Southport, United Kingdom, PR8 4HQ\n- 📊 **Company Status:** Company status\n- 🏷️ **Company Type:** Private limited Company\n- 📅 **Incorporation Date:** 28 August 2024\n- 📈 **Accounts (Next):** 31 August 2025 due by 28 May 2026\n- 📉 **Accounts (Last):** **❌ Missing**\n- 📅 **Confirmation Statement (Next):** 27 August 2025 due by 10 September 2025\n- 📅 **Confirmation Statement (Last):** **❌ Missing**\n- ⚙️ **Nature of Business (SIC):** 68100 - Buying and selling of own real estate, 68100 - Buying and selling of own real estate, 68209 - Other letting and operating of own or leased real estate, 68209 - Other letting and operating of own or leased real estate, 68320 - Management of real estate on a fee or contract basis, 68320 - Management of real estate on a fee or contract basis\n\n</details>\n"
          },
          "metadata": {}
        },
        {
          "output_type": "display_data",
          "data": {
            "text/plain": [
              "<IPython.core.display.Markdown object>"
            ],
            "text/markdown": "\n<details>\n<summary>📂 Result #15 - 79TH LEISURE TWO DEVELOPMENT LIMITED (Click to expand)</summary>\n\n**URL:** https://find-and-update.company-information.service.gov.uk/company/15922417\n\n- ✅ **Name Detected:** 79TH LEISURE TWO DEVELOPMENT LIMITED\n- 🏢 **Registered Office Address:** The Lexicon 10-12 Mount Street, Manchester, M2 5NT\n- 📊 **Company Status:** In Administration\n- 🏷️ **Company Type:** Private limited Company\n- 📅 **Incorporation Date:** 28 August 2024\n- 📈 **Accounts (Next):** 28 May 2026\n- 📉 **Accounts (Last):** 31 August 2025\n- 📅 **Confirmation Statement (Next):** 10 September 2025\n- 📅 **Confirmation Statement (Last):** 27 August 2025\n- ⚙️ **Nature of Business (SIC):** 68100 - Buying and selling of own real estate, 68209 - Other letting and operating of own or leased real estate, 68320 - Management of real estate on a fee or contract basis\n\n</details>\n"
          },
          "metadata": {}
        },
        {
          "output_type": "display_data",
          "data": {
            "text/plain": [
              "<IPython.core.display.Markdown object>"
            ],
            "text/markdown": "\n<details>\n<summary>📂 Result #16 - 79TH LEISURE TWO MANAGEMENT LIMITED (Click to expand)</summary>\n\n**URL:** https://find-and-update.company-information.service.gov.uk/company/15920440\n\n- ✅ **Name Detected:** 79TH LEISURE TWO MANAGEMENT LIMITED\n- 🏢 **Registered Office Address:** The Lexicon 10-12 Mount Street, Manchester, M2 5NT\n- 📊 **Company Status:** In Administration\n- 🏷️ **Company Type:** Private limited Company\n- 📅 **Incorporation Date:** 28 August 2024\n- 📈 **Accounts (Next):** 28 May 2026\n- 📉 **Accounts (Last):** 31 August 2025\n- 📅 **Confirmation Statement (Next):** 10 September 2025\n- 📅 **Confirmation Statement (Last):** 27 August 2025\n- ⚙️ **Nature of Business (SIC):** 68100 - Buying and selling of own real estate, 68209 - Other letting and operating of own or leased real estate, 68320 - Management of real estate on a fee or contract basis\n\n</details>\n"
          },
          "metadata": {}
        },
        {
          "output_type": "display_data",
          "data": {
            "text/plain": [
              "<IPython.core.display.Markdown object>"
            ],
            "text/markdown": "\n<details>\n<summary>📂 Result #17 - 79TH LUXURY LIVING LIMITED (Click to expand)</summary>\n\n**URL:** https://find-and-update.company-information.service.gov.uk/company/10787951\n\n- ✅ **Name Detected:** 79TH LUXURY LIVING LIMITED\n- 🏢 **Registered Office Address:** The Lexicon 10-12 Mount Street, Manchester, M2 5NT\n- 📊 **Company Status:** In Administration\n- 🏷️ **Company Type:** Private limited Company\n- 📅 **Incorporation Date:** 24 May 2017\n- 📈 **Accounts (Next):** 30 December 2024 due by 30 September 2025\n- 📉 **Accounts (Last):** 31 December 2023\n- 📅 **Confirmation Statement (Next):** 22 February 2026 due by 8 March 2026\n- 📅 **Confirmation Statement (Last):** 22 February 2025\n- ⚙️ **Nature of Business (SIC):** 68100 - Buying and selling of own real estate\n\n</details>\n"
          },
          "metadata": {}
        },
        {
          "output_type": "display_data",
          "data": {
            "text/plain": [
              "<IPython.core.display.Markdown object>"
            ],
            "text/markdown": "\n<details>\n<summary>📂 Result #18 - 79TH LUXURY LIVING (BIRKENHEAD) LTD (Click to expand)</summary>\n\n**URL:** https://find-and-update.company-information.service.gov.uk/company/12654970\n\n- ✅ **Name Detected:** 79TH LUXURY LIVING (BIRKENHEAD) LTD\n- 🏢 **Registered Office Address:** Southport Business Park, Wight Moss Way, Southport, England, PR8 4HQ\n- 📊 **Company Status:** Active\n- 🏷️ **Company Type:** Private limited Company\n- 📅 **Incorporation Date:** 9 June 2020\n- 📈 **Accounts (Next):** 31 December 2024 due by 30 September 2025\n- 📉 **Accounts (Last):** 31 December 2023\n- 📅 **Confirmation Statement (Next):** 25 August 2025 due by 8 September 2025\n- 📅 **Confirmation Statement (Last):** 25 August 2024\n- ⚙️ **Nature of Business (SIC):** 68100 - Buying and selling of own real estate\n\n</details>\n"
          },
          "metadata": {}
        },
        {
          "output_type": "display_data",
          "data": {
            "text/plain": [
              "<IPython.core.display.Markdown object>"
            ],
            "text/markdown": "\n<details>\n<summary>📂 Result #19 - 79TH LUXURY LIVING EIGHT LTD (Click to expand)</summary>\n\n**URL:** https://find-and-update.company-information.service.gov.uk/company/16252882\n\n- ✅ **Name Detected:** 79TH LUXURY LIVING EIGHT LTD\n- 🏢 **Registered Office Address:** Southport Business Park, Wight Moss Way, Southport, England, PR8 4HQ\n- 📊 **Company Status:** **❌ Missing**\n- 🏷️ **Company Type:** Private limited Company\n- 📅 **Incorporation Date:** 14 February 2025\n- 📈 **Accounts (Next):** 14 November 2026\n- 📉 **Accounts (Last):** **❌ Missing**\n- 📅 **Confirmation Statement (Next):** 27 February 2026\n- 📅 **Confirmation Statement (Last):** **❌ Missing**\n- ⚙️ **Nature of Business (SIC):** 96090 - Other service activities not elsewhere classified\n\n</details>\n"
          },
          "metadata": {}
        },
        {
          "output_type": "display_data",
          "data": {
            "text/plain": [
              "<IPython.core.display.Markdown object>"
            ],
            "text/markdown": "\n<details>\n<summary>📂 Result #20 - 79TH LUXURY LIVING FIVE LTD (Click to expand)</summary>\n\n**URL:** https://find-and-update.company-information.service.gov.uk/company/14254854\n\n- ✅ **Name Detected:** 79TH LUXURY LIVING FIVE LTD\n- 🏢 **Registered Office Address:** C/O Kroll Advisory Ltd The Shard, 32 London Bridge Street, London, SE1 9SG\n- 📊 **Company Status:** In Administration\n- 🏷️ **Company Type:** Private limited Company\n- 📅 **Incorporation Date:** 25 July 2022\n- 📈 **Accounts (Next):** 31 December 2024 due by 30 September 2025\n- 📉 **Accounts (Last):** 31 December 2023\n- 📅 **Confirmation Statement (Next):** 24 July 2025 due by 7 August 2025\n- 📅 **Confirmation Statement (Last):** 24 July 2024\n- ⚙️ **Nature of Business (SIC):** 96090 - Other service activities not elsewhere classified\n\n</details>\n"
          },
          "metadata": {}
        },
        {
          "output_type": "stream",
          "name": "stdout",
          "text": [
            "\n",
            "📁 Saved beautifully formatted Excel: investigation_79th_Group.xlsx\n",
            "\n",
            "Do you want to investigate another company/person? (yes/no): no\n",
            "\n",
            "👋 Exiting investigation assistant. Goodbye!\n"
          ]
        }
      ]
    },
    {
      "cell_type": "markdown",
      "source": [
        "## 🚀 Next Phase\n",
        "\n",
        "- **Import URLs** from Excel or CSV files.  \n",
        "- **Improve model accuracy** by training it to extract details from multiple websites.  \n",
        "- **Analyze extracted data** to enable informed decision-making.  \n",
        "- **Forward processed output** to another agent for further actions.\n"
      ],
      "metadata": {
        "id": "OuHsjJK1FzHy"
      }
    }
  ]
}